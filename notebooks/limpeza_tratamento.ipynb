{
 "cells": [
  {
   "cell_type": "markdown",
   "metadata": {
    "notebookRunGroups": {
     "groupValue": ""
    }
   },
   "source": [
    "## Limpeza e Tratamento de Dados\n",
    "\n",
    "### Atividade com intuito de realizar a prática de conceitos básicos de limpeza e tratamento de dados\n",
    "\n",
    "**Condições que precisam ser atendidas:**\n",
    "\n",
    "* Aparência: sol, chuva, nublado\n",
    "* Temperatura: -130 ~ 130°F\n",
    "* Umidade: 0 ~ 100%\n",
    "* Jogar: sim/não"
   ]
  }
 ],
 "metadata": {
  "kernelspec": {
   "display_name": "Python 3",
   "language": "python",
   "name": "python3"
  },
  "language_info": {
   "codemirror_mode": {
    "name": "ipython",
    "version": 3
   },
   "file_extension": ".py",
   "mimetype": "text/x-python",
   "name": "python",
   "nbconvert_exporter": "python",
   "pygments_lexer": "ipython3",
   "version": "3.11.5"
  }
 },
 "nbformat": 4,
 "nbformat_minor": 2
}
